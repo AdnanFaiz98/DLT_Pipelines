{
 "cells": [
  {
   "cell_type": "code",
   "execution_count": 10,
   "id": "c6b99617",
   "metadata": {},
   "outputs": [],
   "source": [
    "#!python -m venv ./env"
   ]
  },
  {
   "cell_type": "code",
   "execution_count": 11,
   "id": "cc39e33b",
   "metadata": {},
   "outputs": [],
   "source": [
    "#!pip install \"dlt[duckdb]\"\n",
    "#!dlt --version"
   ]
  },
  {
   "cell_type": "code",
   "execution_count": 14,
   "id": "939609a1",
   "metadata": {},
   "outputs": [
    {
     "name": "stdout",
     "output_type": "stream",
     "text": [
      "Pipeline dlt_ipykernel_launcher completed in 0.69 seconds\n",
      "1 load package(s) were loaded to destination duckdb and into dataset country_data\n",
      "The duckdb destination used duckdb:///C:\\Users\\adnan\\Python\\dlt_ipykernel_launcher.duckdb location to store data\n",
      "Load package 1699464974.348066 is LOADED and contains no failed jobs\n"
     ]
    }
   ],
   "source": [
    "import dlt\n",
    "\n",
    "pipeline = dlt.pipeline(destination=\"duckdb\", dataset_name=\"country_data\")\n",
    "\n",
    "data = [\n",
    "    {'country': 'USA', 'population': 331449281, 'capital': 'Washington, D.C.'},\n",
    "    {'country': 'Canada', 'population': 38005238, 'capital': 'Ottawa'},\n",
    "    {'country': 'Germany', 'population': 83019200, 'capital': 'Berlin'}\n",
    "]\n",
    "\n",
    "info = pipeline.run(data, table_name=\"countries\")\n",
    "\n",
    "print(info)"
   ]
  },
  {
   "cell_type": "code",
   "execution_count": null,
   "id": "6f56987f",
   "metadata": {},
   "outputs": [],
   "source": []
  },
  {
   "cell_type": "code",
   "execution_count": null,
   "id": "2559388d",
   "metadata": {},
   "outputs": [],
   "source": []
  }
 ],
 "metadata": {
  "kernelspec": {
   "display_name": "Python 3 (ipykernel)",
   "language": "python",
   "name": "python3"
  },
  "language_info": {
   "codemirror_mode": {
    "name": "ipython",
    "version": 3
   },
   "file_extension": ".py",
   "mimetype": "text/x-python",
   "name": "python",
   "nbconvert_exporter": "python",
   "pygments_lexer": "ipython3",
   "version": "3.11.5"
  }
 },
 "nbformat": 4,
 "nbformat_minor": 5
}
